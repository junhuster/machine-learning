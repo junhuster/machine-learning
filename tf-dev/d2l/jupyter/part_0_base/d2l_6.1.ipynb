{
 "cells": [
  {
   "cell_type": "code",
   "execution_count": 83,
   "metadata": {},
   "outputs": [
    {
     "name": "stdout",
     "output_type": "stream",
     "text": [
      "Memory growth enabled for PhysicalDevice(name='/physical_device:GPU:0', device_type='GPU'): True\n"
     ]
    }
   ],
   "source": [
    "%reload_ext autoreload\n",
    "%autoreload 2\n",
    "import tensorflow as tf\n",
    "import sys\n",
    "import math\n",
    "import numpy as np\n",
    "sys.path.append('../../pytools')\n",
    "import d2l\n",
    "\n",
    "d2l.gpu_mem_init()"
   ]
  },
  {
   "cell_type": "code",
   "execution_count": 84,
   "metadata": {},
   "outputs": [],
   "source": [
    "def corr2d(x, k):\n",
    "    height,width = k.shape[0],k.shape[1]\n",
    "    y = tf.Variable(tf.zeros((x.shape[0] - height + 1, x.shape[1] - width + 1)))\n",
    "    for i in range(y.shape[0]):\n",
    "        for j in range(y.shape[1]):\n",
    "            y[i,j].assign(tf.reduce_sum(x[i:i + height, j:j+width] * k))\n",
    "    return y"
   ]
  },
  {
   "cell_type": "code",
   "execution_count": 85,
   "metadata": {},
   "outputs": [],
   "source": [
    "X = tf.constant([[0.0, 1.0, 2.0], [3.0, 4.0, 5.0], [6.0, 7.0, 8.0]])\n",
    "K = tf.constant([[0.0, 1.0], [2.0, 3.0]])\n",
    "#corr2d(X, K)"
   ]
  },
  {
   "cell_type": "code",
   "execution_count": 86,
   "metadata": {},
   "outputs": [],
   "source": [
    "class Conv2D(tf.keras.layers.Layer):\n",
    "    def __init__(self):\n",
    "        super().__init__()\n",
    "    def build(self, shape):\n",
    "        self.w = self.add_weight(name='weight', shape=shape, initializer=tf.random_normal_initializer())\n",
    "        self.b = self.add_bias(name='bias', shape=(1,), initializer=tf.random_normal_initializer())\n",
    "    def call(self, input):\n",
    "        print(f'self.w.shape={self.w.shape}')\n",
    "        return corr2d(inputs, self.w) + self.b"
   ]
  },
  {
   "cell_type": "code",
   "execution_count": 87,
   "metadata": {},
   "outputs": [
    {
     "data": {
      "text/plain": [
       "<tf.Variable 'UnreadVariable' shape=(6, 8) dtype=float32, numpy=\n",
       "array([[1., 1., 0., 0., 0., 0., 1., 1.],\n",
       "       [1., 1., 0., 0., 0., 0., 1., 1.],\n",
       "       [1., 1., 0., 0., 0., 0., 1., 1.],\n",
       "       [1., 1., 0., 0., 0., 0., 1., 1.],\n",
       "       [1., 1., 0., 0., 0., 0., 1., 1.],\n",
       "       [1., 1., 0., 0., 0., 0., 1., 1.]], dtype=float32)>"
      ]
     },
     "execution_count": 87,
     "metadata": {},
     "output_type": "execute_result"
    }
   ],
   "source": [
    "X = tf.Variable(tf.ones((6, 8)))\n",
    "X[:, 2:6].assign(tf.zeros(X[:, 2:6].shape))"
   ]
  },
  {
   "cell_type": "code",
   "execution_count": 88,
   "metadata": {},
   "outputs": [
    {
     "name": "stdout",
     "output_type": "stream",
     "text": [
      "epoch 2, loss 20.240\n",
      "epoch 4, loss 3.723\n",
      "epoch 6, loss 0.758\n",
      "epoch 8, loss 0.182\n",
      "epoch 10, loss 0.053\n"
     ]
    }
   ],
   "source": [
    "K = tf.constant([[1.0, -1.0]])\n",
    "Y = corr2d(X, K)\n",
    "\n",
    "conv2d = tf.keras.layers.Conv2D(1, (1,2), use_bias=False)\n",
    "\n",
    "x = tf.reshape(X, (1,6,8,1))\n",
    "y = tf.reshape(Y, (1,6,7,1))\n",
    "lr = 3e-2\n",
    "y_hat = conv2d(x)\n",
    "#print(conv2d.get_weights())\n",
    "sgd = tf.keras.optimizers.SGD(0.03)\n",
    "for i in range(10):\n",
    "    with tf.GradientTape() as t:\n",
    "        y_hat = conv2d(x)\n",
    "        l = (abs(y - y_hat))**2\n",
    "        grads = t.gradient(l, conv2d.weights)\n",
    "        sgd.apply_gradients(zip(grads, conv2d.trainable_variables))\n",
    "        if (i + 1) % 2 == 0:\n",
    "            print(f'epoch {i+1}, loss {tf.reduce_sum(l):.3f}')\n"
   ]
  }
 ],
 "metadata": {
  "kernelspec": {
   "display_name": "Python 3",
   "language": "python",
   "name": "python3"
  },
  "language_info": {
   "codemirror_mode": {
    "name": "ipython",
    "version": 3
   },
   "file_extension": ".py",
   "mimetype": "text/x-python",
   "name": "python",
   "nbconvert_exporter": "python",
   "pygments_lexer": "ipython3",
   "version": "3.10.12"
  }
 },
 "nbformat": 4,
 "nbformat_minor": 2
}
