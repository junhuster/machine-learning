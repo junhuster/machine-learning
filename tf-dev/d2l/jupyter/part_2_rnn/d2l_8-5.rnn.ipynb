{
 "cells": [
  {
   "cell_type": "code",
   "execution_count": 192,
   "metadata": {},
   "outputs": [
    {
     "name": "stdout",
     "output_type": "stream",
     "text": [
      "Memory growth enabled for PhysicalDevice(name='/physical_device:GPU:0', device_type='GPU'): True\n"
     ]
    }
   ],
   "source": [
    "%reload_ext autoreload\n",
    "%autoreload 2\n",
    "import tensorflow as tf\n",
    "import sys\n",
    "import math\n",
    "import numpy as np\n",
    "sys.path.append('../../pytools')\n",
    "import d2l\n",
    "import collections\n",
    "import re\n",
    "import random\n",
    "\n",
    "d2l.gpu_mem_init()"
   ]
  },
  {
   "cell_type": "code",
   "execution_count": 193,
   "metadata": {},
   "outputs": [],
   "source": [
    "batch_size,num_steps = 32,35\n",
    "train_iter,vocab = d2l.load_data_time_machine(batch_size, num_steps)"
   ]
  },
  {
   "cell_type": "code",
   "execution_count": 194,
   "metadata": {},
   "outputs": [
    {
     "data": {
      "text/plain": [
       "<tf.Tensor: shape=(2, 28), dtype=float32, numpy=\n",
       "array([[1., 0., 0., 0., 0., 0., 0., 0., 0., 0., 0., 0., 0., 0., 0., 0.,\n",
       "        0., 0., 0., 0., 0., 0., 0., 0., 0., 0., 0., 0.],\n",
       "       [0., 0., 1., 0., 0., 0., 0., 0., 0., 0., 0., 0., 0., 0., 0., 0.,\n",
       "        0., 0., 0., 0., 0., 0., 0., 0., 0., 0., 0., 0.]], dtype=float32)>"
      ]
     },
     "execution_count": 194,
     "metadata": {},
     "output_type": "execute_result"
    }
   ],
   "source": [
    "tf.one_hot([0, 2], 28)"
   ]
  },
  {
   "cell_type": "code",
   "execution_count": 195,
   "metadata": {},
   "outputs": [
    {
     "data": {
      "text/plain": [
       "TensorShape([5, 2, 28])"
      ]
     },
     "execution_count": 195,
     "metadata": {},
     "output_type": "execute_result"
    }
   ],
   "source": [
    "X = tf.reshape(tf.range(10), (2, 5))\n",
    "tf.one_hot(tf.transpose(X), 28).shape"
   ]
  },
  {
   "cell_type": "code",
   "execution_count": 196,
   "metadata": {},
   "outputs": [],
   "source": [
    "def get_params(vocab_size, num_hiddens):\n",
    "    num_input = num_output = vocab_size\n",
    "    def normal(shape):\n",
    "        return tf.random.normal(shape=shape, mean=0, stddev=0.01, dtype=tf.float32)\n",
    "    W_xh = tf.Variable(normal((num_input, num_hiddens)), dtype=tf.float32)\n",
    "    W_hh = tf.Variable(normal((num_hiddens, num_hiddens)), dtype=tf.float32)\n",
    "    B_h = tf.Variable(tf.zeros((num_hiddens)))\n",
    "\n",
    "    W_hq = tf.Variable(normal((num_hiddens, num_output)), dtype=tf.float32)\n",
    "    B_q = tf.Variable(tf.zeros((num_output)), dtype=tf.float32)\n",
    "    params = [W_xh, W_hh, B_h, W_hq, B_q]\n",
    "    return params"
   ]
  },
  {
   "cell_type": "code",
   "execution_count": 197,
   "metadata": {},
   "outputs": [],
   "source": [
    "def init_rnn_state(batch_size, num_hiddens):\n",
    "    return (tf.zeros((batch_size, num_hiddens)),)"
   ]
  },
  {
   "cell_type": "code",
   "execution_count": 198,
   "metadata": {},
   "outputs": [],
   "source": [
    "def rnn(inputs, state, params):\n",
    "    W_xh, W_hh, B_h, W_hq, B_q = params\n",
    "    H, = state\n",
    "    outputs = []\n",
    "    for X in inputs:\n",
    "        X = tf.reshape(X, [-1, W_xh.shape[0]])\n",
    "        H = tf.tanh(tf.matmul(X, W_xh) + tf.matmul(H, W_hh) + B_h)\n",
    "        Y = tf.matmul(H, W_hq) + B_q \n",
    "        outputs.append(Y)\n",
    "    return tf.concat(outputs, axis=0),(H,)\n"
   ]
  },
  {
   "cell_type": "code",
   "execution_count": 199,
   "metadata": {},
   "outputs": [],
   "source": [
    "class RNNModelScratch:\n",
    "    def __init__(self, vocab_size, num_hiddens, init_state, forward_fn, get_params):\n",
    "        self.vocab_size, self.num_hiddens = vocab_size, num_hiddens\n",
    "        self.init_state, self.forward_fn = init_state, forward_fn\n",
    "        self.trainable_variables = get_params(vocab_size, num_hiddens)\n",
    "        #\n",
    "    def __call__(self, X, state):\n",
    "        input = tf.one_hot(tf.transpose(X), self.vocab_size)\n",
    "        input = tf.cast(input, dtype=tf.float32)\n",
    "        return self.forward_fn(input, state, self.trainable_variables)\n",
    "\n",
    "    def begin_state(self, batch_size):\n",
    "        return self.init_state(batch_size, self.num_hiddens)"
   ]
  },
  {
   "cell_type": "code",
   "execution_count": 200,
   "metadata": {},
   "outputs": [
    {
     "data": {
      "text/plain": [
       "(TensorShape([10, 28]), 1, TensorShape([2, 512]))"
      ]
     },
     "execution_count": 200,
     "metadata": {},
     "output_type": "execute_result"
    }
   ],
   "source": [
    "# 定义tensorflow训练策略\n",
    "device_name = d2l.try_gpu()._device_name\n",
    "strategy = tf.distribute.OneDeviceStrategy(device_name)\n",
    "\n",
    "num_hiddens = 512\n",
    "with strategy.scope():\n",
    "    net = RNNModelScratch(len(vocab), num_hiddens, init_rnn_state, rnn,\n",
    "                          get_params)\n",
    "state = net.begin_state(X.shape[0])\n",
    "Y, new_state = net(X, state)\n",
    "Y.shape, len(new_state), new_state[0].shape"
   ]
  },
  {
   "cell_type": "code",
   "execution_count": 201,
   "metadata": {},
   "outputs": [],
   "source": [
    "def predict_ch8(prefix, num_preds, net, vocab):\n",
    "    state = net.begin_state(batch_size=1)\n",
    "    outputs = [vocab[prefix[0]]]\n",
    "    get_input = lambda : tf.reshape(tf.constant([outputs[-1]]), (1,1)).numpy()\n",
    "    for y in prefix[1:]:\n",
    "        _,state = net(get_input(), state)\n",
    "        outputs.append(vocab[y])\n",
    "    for _ in range(num_preds):\n",
    "        y,state = net(get_input(), state)\n",
    "        outputs.append(int(y.numpy().argmax(axis=1).reshape(1)))\n",
    "    return ''.join([vocab.idx_to_token[i] for i in outputs])"
   ]
  },
  {
   "cell_type": "code",
   "execution_count": 202,
   "metadata": {},
   "outputs": [
    {
     "name": "stderr",
     "output_type": "stream",
     "text": [
      "/tmp/ipykernel_3375068/1234017843.py:10: DeprecationWarning: Conversion of an array with ndim > 0 to a scalar is deprecated, and will error in future. Ensure you extract a single element from your array before performing this operation. (Deprecated NumPy 1.25.)\n",
      "  outputs.append(int(y.numpy().argmax(axis=1).reshape(1)))\n"
     ]
    },
    {
     "data": {
      "text/plain": [
       "'time traveller drwij drwi'"
      ]
     },
     "execution_count": 202,
     "metadata": {},
     "output_type": "execute_result"
    }
   ],
   "source": [
    "predict_ch8('time traveller ', 10, net, vocab)"
   ]
  },
  {
   "cell_type": "code",
   "execution_count": 203,
   "metadata": {},
   "outputs": [],
   "source": [
    "##TODO 将带有自定义函数的模型保存为saved_model\n",
    "\n",
    "##fix  原书中的代码计算出的norm始终小于1.0，导致没有实际走到梯度裁剪的地方。\n",
    "##fix  此处对原有的代码进行了调整\n",
    "def grad_clipping(grads, theta):\n",
    "    theta = tf.constant(theta, dtype=tf.float32)\n",
    "    new_grads = []\n",
    "    for grad in grads:\n",
    "        if isinstance(grad, tf.IndexedSlices):\n",
    "            new_grads.append(tf.convert_to_tensor(grad))\n",
    "        else:\n",
    "            new_grads.append(grad)\n",
    "\n",
    "    norm = tf.math.sqrt(sum((tf.reduce_sum(grad**2)).numpy() for grad in new_grads))\n",
    "    norm = tf.cast(norm, dtype=tf.float32)\n",
    "\n",
    "    theta_f = 1.0\n",
    "    if norm < 1.0:\n",
    "        theta_f = norm + 0.0001\n",
    "    else:\n",
    "        theta_f = theta / norm\n",
    "\n",
    "    for i,grad in enumerate(new_grads):\n",
    "        new_grads[i] = grad * theta_f\n",
    "    return new_grads"
   ]
  },
  {
   "cell_type": "code",
   "execution_count": 204,
   "metadata": {},
   "outputs": [],
   "source": [
    "def train_epoch_ch8(net, train_iter, loss, optimizer, user_random_iter, vocab_size):\n",
    "    state, timer = None, d2l.Timer()\n",
    "    metric = d2l.Accumulator(2)  \n",
    "    for X,Y in train_iter:\n",
    "        if state is None or user_random_iter:\n",
    "            state = net.begin_state(X.shape[0])\n",
    "        with tf.GradientTape(persistent=True) as g:\n",
    "            y_hat, state = net(X, state)\n",
    "            y = tf.reshape(tf.transpose(Y), (-1))\n",
    "            l = loss(y, y_hat)\n",
    "        params = net.trainable_variables\n",
    "        grads = g.gradient(l, params)\n",
    "        grads = grad_clipping(grads, 1)\n",
    "        optimizer.apply_gradients(zip(grads, params))\n",
    "    metric.add(l * len(y),  len(y))\n",
    "    return math.exp(metric[0] / metric[1]), metric[1] / timer.stop()"
   ]
  },
  {
   "cell_type": "code",
   "execution_count": 205,
   "metadata": {},
   "outputs": [],
   "source": [
    "#@save\n",
    "def train_ch8(net, train_iter, vocab, lr, num_epochs, strategy,\n",
    "              use_random_iter=False):\n",
    "    \"\"\"训练模型（定义见第8章）\"\"\"\n",
    "    with strategy.scope():\n",
    "        loss = tf.keras.losses.SparseCategoricalCrossentropy(\n",
    "            from_logits=True)\n",
    "        updater = tf.keras.optimizers.SGD(lr)\n",
    "    animator = d2l.Animator(xlabel='epoch', ylabel='perplexity',\n",
    "                            legend=['train'], xlim=[10, num_epochs])\n",
    "    predict = lambda prefix: predict_ch8(prefix, 50, net, vocab)\n",
    "    # 训练和预测\n",
    "    for epoch in range(num_epochs):\n",
    "        ppl, speed = train_epoch_ch8(net, train_iter, loss, updater,\n",
    "                                     use_random_iter, len(vocab))\n",
    "        if (epoch + 1) % 10 == 0:\n",
    "            print(predict('time traveller'))\n",
    "            animator.add(epoch + 1, [ppl])\n",
    "    device = d2l.try_gpu()._device_name\n",
    "    print(f'困惑度 {ppl:.1f}, {speed:.1f} 词元/秒 {str(device)}')\n",
    "    print(predict('time traveller '))\n",
    "    print(predict('traveller '))"
   ]
  },
  {
   "cell_type": "code",
   "execution_count": 206,
   "metadata": {},
   "outputs": [
    {
     "name": "stdout",
     "output_type": "stream",
     "text": [
      "困惑度 1.5, 1287.5 词元/秒 /GPU:0\n",
      "time traveller hom so erove that there ar havl on all these are e\n",
      "traveller for in aromy tigee hither an thereding atwryee car\n"
     ]
    },
    {
     "data": {
      "image/png": "[encoded data removed]",
      "text/plain": [
       "<Figure size 350x250 with 1 Axes>"
      ]
     },
     "metadata": {},
     "output_type": "display_data"
    }
   ],
   "source": [
    "num_epochs, lr = 500, 1.1\n",
    "train_ch8(net, train_iter, vocab, lr, num_epochs, strategy)"
   ]
  }
 ],
 "metadata": {
  "kernelspec": {
   "display_name": "Python 3",
   "language": "python",
   "name": "python3"
  },
  "language_info": {
   "codemirror_mode": {
    "name": "ipython",
    "version": 3
   },
   "file_extension": ".py",
   "mimetype": "text/x-python",
   "name": "python",
   "nbconvert_exporter": "python",
   "pygments_lexer": "ipython3",
   "version": "3.10.12"
  }
 },
 "nbformat": 4,
 "nbformat_minor": 2
}
