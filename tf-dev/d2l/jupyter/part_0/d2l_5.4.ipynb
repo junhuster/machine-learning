{
 "cells": [
  {
   "cell_type": "code",
   "execution_count": 1,
   "metadata": {},
   "outputs": [
    {
     "name": "stderr",
     "output_type": "stream",
     "text": [
      "2025-09-19 11:04:35.492518: I tensorflow/core/util/port.cc:153] oneDNN custom operations are on. You may see slightly different numerical results due to floating-point round-off errors from different computation orders. To turn them off, set the environment variable `TF_ENABLE_ONEDNN_OPTS=0`.\n",
      "2025-09-19 11:04:35.555496: I tensorflow/core/platform/cpu_feature_guard.cc:210] This TensorFlow binary is optimized to use available CPU instructions in performance-critical operations.\n",
      "To enable the following instructions: AVX2 AVX512F AVX512_VNNI FMA, in other operations, rebuild TensorFlow with the appropriate compiler flags.\n",
      "2025-09-19 11:04:36.997055: I tensorflow/core/util/port.cc:153] oneDNN custom operations are on. You may see slightly different numerical results due to floating-point round-off errors from different computation orders. To turn them off, set the environment variable `TF_ENABLE_ONEDNN_OPTS=0`.\n"
     ]
    },
    {
     "name": "stdout",
     "output_type": "stream",
     "text": [
      "Memory growth enabled for PhysicalDevice(name='/physical_device:GPU:0', device_type='GPU'): True\n"
     ]
    }
   ],
   "source": [
    "%reload_ext autoreload\n",
    "%autoreload 2\n",
    "import tensorflow as tf\n",
    "import sys\n",
    "import math\n",
    "import numpy as np\n",
    "sys.path.append('../../pytools')\n",
    "import d2l\n",
    "\n",
    "d2l.gpu_mem_init()"
   ]
  },
  {
   "cell_type": "code",
   "execution_count": 15,
   "metadata": {},
   "outputs": [],
   "source": [
    "class MyDense(tf.keras.Model):\n",
    "    def __init__(self, units):\n",
    "        super().__init__()\n",
    "        self.units = units\n",
    "    def build(self, x_shape):\n",
    "        self.weight = self.add_weight(name='weight', shape=[x_shape[-1], self.units], initializer=tf.random_normal_initializer())\n",
    "        self.bias = self.add_weight(name='bias', shape=[self.units], initializer=tf.zeros_initializer())\n",
    "    def call(self, x):\n",
    "        x= tf.matmul(x, self.weight) + self.bias\n",
    "        return tf.nn.relu(x)\n"
   ]
  },
  {
   "cell_type": "code",
   "execution_count": 16,
   "metadata": {},
   "outputs": [
    {
     "name": "stdout",
     "output_type": "stream",
     "text": [
      "[<Variable path=my_dense_8/weight, shape=(5, 3), dtype=float32, value=[[ 0.05522285 -0.07114355  0.09311229]\n",
      " [-0.02980409 -0.0380142   0.01665183]\n",
      " [ 0.0165642  -0.00753567  0.00284316]\n",
      " [-0.01843435  0.01787244  0.04961246]\n",
      " [-0.01341775  0.00791334  0.02497029]]>, <Variable path=my_dense_8/bias, shape=(3,), dtype=float32, value=[0. 0. 0.]>]\n"
     ]
    }
   ],
   "source": [
    "dense = MyDense(3)\n",
    "dense(tf.random.uniform((2,5)))\n",
    "print(dense.weights)"
   ]
  },
  {
   "cell_type": "code",
   "execution_count": 23,
   "metadata": {},
   "outputs": [
    {
     "data": {
      "text/plain": [
       "<tf.Tensor: shape=(2, 1), dtype=float32, numpy=\n",
       "array([[0.00912208],\n",
       "       [0.01199578]], dtype=float32)>"
      ]
     },
     "execution_count": 23,
     "metadata": {},
     "output_type": "execute_result"
    }
   ],
   "source": [
    "net = tf.keras.Sequential([MyDense(8), MyDense(1)])\n",
    "x = tf.random.uniform((2,20))\n",
    "net(x)"
   ]
  }
 ],
 "metadata": {
  "kernelspec": {
   "display_name": "Python 3",
   "language": "python",
   "name": "python3"
  },
  "language_info": {
   "codemirror_mode": {
    "name": "ipython",
    "version": 3
   },
   "file_extension": ".py",
   "mimetype": "text/x-python",
   "name": "python",
   "nbconvert_exporter": "python",
   "pygments_lexer": "ipython3",
   "version": "3.10.12"
  }
 },
 "nbformat": 4,
 "nbformat_minor": 2
}
