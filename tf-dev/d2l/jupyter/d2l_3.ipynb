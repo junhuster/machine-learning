{
 "cells": [
  {
   "cell_type": "code",
   "execution_count": null,
   "metadata": {},
   "outputs": [],
   "source": [
    "%load_ext autoreload\n",
    "%autoreload 2\n",
    "import sys\n",
    "import tensorflow as tf\n",
    "sys.path.append('../pytools')\n",
    "import d2l"
   ]
  },
  {
   "cell_type": "code",
   "execution_count": null,
   "metadata": {},
   "outputs": [],
   "source": [
    "true_w = tf.constant([2, -3.4])\n",
    "true_b = 5.6\n",
    "features,lables = d2l.construct_data(true_w, true_b, 1000)"
   ]
  },
  {
   "cell_type": "code",
   "execution_count": null,
   "metadata": {},
   "outputs": [],
   "source": [
    "#初始化参数\n",
    "w = tf.Variable(tf.random.normal(shape=(2,1), mean=0, stddev=0.01), trainable=True)\n",
    "b = tf.Variable(tf.zeros(1), trainable=True)"
   ]
  },
  {
   "cell_type": "code",
   "execution_count": null,
   "metadata": {},
   "outputs": [],
   "source": [
    "#定义模型\n",
    "def lingre(x, w, b):\n",
    "    return tf.matmul(x, w) + b"
   ]
  },
  {
   "cell_type": "code",
   "execution_count": null,
   "metadata": {},
   "outputs": [],
   "source": [
    "#定义损失函数\n",
    "def squaloss(y_hat, y):\n",
    "    return (y_hat - tf.reshape(y, y_hat.shape)) ** 2 / 2"
   ]
  },
  {
   "cell_type": "code",
   "execution_count": null,
   "metadata": {},
   "outputs": [],
   "source": [
    "#训练\n",
    "num_epochs = 4\n",
    "lr = 0.01\n",
    "net = lingre\n",
    "loss = squaloss\n",
    "batch_size = 10\n",
    "for epoch in range(num_epochs):\n",
    "    for x,y in d2l.data_iter(batch_size, features, lables):\n",
    "        with tf.GradientTape() as t:\n",
    "            l = loss(net(x, w, b), y)\n",
    "            grads = t.gradient(l, [w, b])\n",
    "            d2l.sgd([w, b], grads, lr, batch_size)\n",
    "    train_l = loss(net(features, w, b), lables)\n",
    "    print(f'epoc {epoch}, loss {float(tf.reduce_mean(train_l)):f}')\n",
    "print(f'w={w} \\nb={b} \\ntrue_w={true_w} \\ntrue_b={true_b}')"
   ]
  }
 ],
 "metadata": {
  "kernelspec": {
   "display_name": "Python 3",
   "language": "python",
   "name": "python3"
  },
  "language_info": {
   "codemirror_mode": {
    "name": "ipython",
    "version": 3
   },
   "file_extension": ".py",
   "mimetype": "text/x-python",
   "name": "python",
   "nbconvert_exporter": "python",
   "pygments_lexer": "ipython3",
   "version": "3.10.12"
  }
 },
 "nbformat": 4,
 "nbformat_minor": 2
}
