{
 "cells": [
  {
   "cell_type": "code",
   "execution_count": 96,
   "metadata": {},
   "outputs": [
    {
     "name": "stdout",
     "output_type": "stream",
     "text": [
      "Memory growth enabled for PhysicalDevice(name='/physical_device:GPU:0', device_type='GPU'): True\n"
     ]
    }
   ],
   "source": [
    "%reload_ext autoreload\n",
    "%autoreload 2\n",
    "import tensorflow as tf\n",
    "import sys\n",
    "import math\n",
    "import numpy as np\n",
    "sys.path.append('../../pytools')\n",
    "import d2l\n",
    "\n",
    "d2l.gpu_mem_init()"
   ]
  },
  {
   "cell_type": "code",
   "execution_count": 97,
   "metadata": {},
   "outputs": [],
   "source": [
    "def batch_norm(X, gamma, beta, moving_mean, moving_var, eps):\n",
    "    # 计算移动方差元平方根的倒数\n",
    "    inv = tf.cast(tf.math.rsqrt(moving_var + eps), X.dtype)\n",
    "    # 缩放和移位\n",
    "    inv *= gamma\n",
    "    Y = X * inv + (beta - moving_mean * inv)\n",
    "    return Y\n"
   ]
  },
  {
   "cell_type": "code",
   "execution_count": 98,
   "metadata": {},
   "outputs": [],
   "source": [
    "class BatchNorm(tf.keras.layers.Layer):\n",
    "    def __init__(self, **kwargs):\n",
    "        super(BatchNorm, self).__init__(**kwargs)\n",
    "\n",
    "    def build(self, input_shape):\n",
    "        weight_shape = [input_shape[-1], ]\n",
    "        # 参与求梯度和迭代的拉伸和偏移参数，分别初始化成1和0\n",
    "        self.gamma = self.add_weight(name='gamma', shape=weight_shape,\n",
    "            initializer=tf.initializers.ones, trainable=True)\n",
    "        self.beta = self.add_weight(name='beta', shape=weight_shape,\n",
    "            initializer=tf.initializers.zeros, trainable=True)\n",
    "        # 非模型参数的变量初始化为0和1\n",
    "        self.moving_mean = self.add_weight(name='moving_mean',\n",
    "            shape=weight_shape, initializer=tf.initializers.zeros,\n",
    "            trainable=False)\n",
    "        self.moving_variance = self.add_weight(name='moving_variance',\n",
    "            shape=weight_shape, initializer=tf.initializers.ones,\n",
    "            trainable=False)\n",
    "        super(BatchNorm, self).build(input_shape)\n",
    "\n",
    "    def assign_moving_average(self, variable, value):\n",
    "        momentum = 0.9\n",
    "        delta = variable * momentum + value * (1 - momentum)\n",
    "        return variable.assign(delta)\n",
    "\n",
    "    @tf.function\n",
    "    def call(self, inputs, training=True):\n",
    "        if training:\n",
    "            axes = list(range(len(inputs.shape) - 1))\n",
    "            batch_mean = tf.reduce_mean(inputs, axes, keepdims=True)\n",
    "            batch_variance = tf.reduce_mean(tf.math.squared_difference(\n",
    "                inputs, tf.stop_gradient(batch_mean)), axes, keepdims=True)\n",
    "            \n",
    "            batch_mean = tf.squeeze(batch_mean, axes)\n",
    "            batch_variance = tf.squeeze(batch_variance, axes)\n",
    "            \n",
    "            mean_update = self.assign_moving_average(\n",
    "                self.moving_mean, batch_mean)\n",
    "            \n",
    "            variance_update = self.assign_moving_average(\n",
    "              self.moving_variance, batch_variance)\n",
    "            \n",
    "            #self.add_update(mean_update)\n",
    "            #self.add_update(variance_update)\n",
    "            mean, variance = batch_mean, batch_variance\n",
    "        else:\n",
    "            mean, variance = self.moving_mean, self.moving_variance\n",
    "        output = batch_norm(inputs, moving_mean=mean, moving_var=variance,\n",
    "            beta=self.beta, gamma=self.gamma, eps=1e-5)\n",
    "        \n",
    "        return output"
   ]
  },
  {
   "cell_type": "code",
   "execution_count": 99,
   "metadata": {},
   "outputs": [],
   "source": [
    "# 回想一下，这个函数必须传递给d2l.train_ch6。\n",
    "# 或者说为了利用我们现有的CPU/GPU设备，需要在strategy.scope()建立模型\n",
    "def net():\n",
    "    return tf.keras.models.Sequential([\n",
    "        tf.keras.layers.Conv2D(filters=6, kernel_size=5,\n",
    "                               input_shape=(28, 28, 1)),\n",
    "        BatchNorm(),\n",
    "        tf.keras.layers.Activation('sigmoid'),\n",
    "        tf.keras.layers.AvgPool2D(pool_size=2, strides=2),\n",
    "        tf.keras.layers.Conv2D(filters=16, kernel_size=5),\n",
    "        BatchNorm(),\n",
    "        tf.keras.layers.Activation('sigmoid'),\n",
    "        tf.keras.layers.AvgPool2D(pool_size=2, strides=2),\n",
    "        tf.keras.layers.Flatten(),\n",
    "        tf.keras.layers.Dense(120),\n",
    "        BatchNorm(),\n",
    "        tf.keras.layers.Activation('sigmoid'),\n",
    "        tf.keras.layers.Dense(84),\n",
    "        BatchNorm(),\n",
    "        tf.keras.layers.Activation('sigmoid'),\n",
    "        tf.keras.layers.Dense(10)]\n",
    "    )"
   ]
  },
  {
   "cell_type": "code",
   "execution_count": 100,
   "metadata": {},
   "outputs": [
    {
     "name": "stdout",
     "output_type": "stream",
     "text": [
      "loss 0.468, train acc 0.831, test acc 0.746\n",
      "35742.3 examples/sec on /GPU:0\n"
     ]
    },
    {
     "data": {
      "image/png": "[encoded data removed]",
      "text/plain": [
       "<Figure size 350x250 with 1 Axes>"
      ]
     },
     "metadata": {},
     "output_type": "display_data"
    }
   ],
   "source": [
    "lr, num_epochs, batch_size = 1.0, 2, 256\n",
    "train_iter, test_iter = d2l.load_data_fashion_mnist(batch_size)\n",
    "net = d2l.train_ch6(net, train_iter, test_iter, num_epochs, lr, d2l.try_gpu())"
   ]
  }
 ],
 "metadata": {
  "kernelspec": {
   "display_name": "Python 3",
   "language": "python",
   "name": "python3"
  },
  "language_info": {
   "codemirror_mode": {
    "name": "ipython",
    "version": 3
   },
   "file_extension": ".py",
   "mimetype": "text/x-python",
   "name": "python",
   "nbconvert_exporter": "python",
   "pygments_lexer": "ipython3",
   "version": "3.10.12"
  }
 },
 "nbformat": 4,
 "nbformat_minor": 2
}
