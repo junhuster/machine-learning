{
 "cells": [
  {
   "cell_type": "code",
   "execution_count": 58,
   "metadata": {},
   "outputs": [
    {
     "name": "stdout",
     "output_type": "stream",
     "text": [
      "Memory growth enabled for PhysicalDevice(name='/physical_device:GPU:0', device_type='GPU'): True\n"
     ]
    }
   ],
   "source": [
    "%reload_ext autoreload\n",
    "%autoreload 2\n",
    "import tensorflow as tf\n",
    "import sys\n",
    "import math\n",
    "import numpy as np\n",
    "sys.path.append('../pytools')\n",
    "import d2l\n",
    "\n",
    "d2l.gpu_mem_init()"
   ]
  },
  {
   "cell_type": "code",
   "execution_count": 59,
   "metadata": {},
   "outputs": [
    {
     "data": {
      "text/plain": [
       "<tf.Tensor: shape=(2, 10), dtype=float32, numpy=\n",
       "array([[ 0.24339932, -0.32407302,  0.03625934, -0.02166909,  0.35151708,\n",
       "         0.4057223 ,  0.215098  , -0.03500882,  0.22022352,  0.2466392 ],\n",
       "       [ 0.23594415, -0.40380743,  0.04983503,  0.04183488,  0.13467623,\n",
       "         0.20341524,  0.26040128, -0.20052058,  0.35503572,  0.30703652]],\n",
       "      dtype=float32)>"
      ]
     },
     "execution_count": 59,
     "metadata": {},
     "output_type": "execute_result"
    }
   ],
   "source": [
    "net = tf.keras.models.Sequential([\n",
    "    tf.keras.layers.Flatten(),\n",
    "    tf.keras.layers.Dense(256, activation='relu'),\n",
    "    tf.keras.layers.Dense(10)\n",
    "])\n",
    "x = tf.random.uniform((2, 20, 2))\n",
    "net(x)"
   ]
  },
  {
   "cell_type": "code",
   "execution_count": 60,
   "metadata": {},
   "outputs": [],
   "source": [
    "class MLP(tf.keras.Model):\n",
    "    def __init__(self):\n",
    "        super().__init__()\n",
    "        self.hidden = tf.keras.layers.Dense(256, activation=tf.nn.relu)\n",
    "        self.out = tf.keras.layers.Dense(10)\n",
    "    def call(self, x):\n",
    "        return self.out(self.hidden(x))"
   ]
  },
  {
   "cell_type": "code",
   "execution_count": 61,
   "metadata": {},
   "outputs": [
    {
     "data": {
      "text/plain": [
       "<tf.Tensor: shape=(2, 10), dtype=float32, numpy=\n",
       "array([[ 0.14893168, -0.2283766 , -0.05515024, -0.04604724, -0.10981039,\n",
       "        -0.16195588, -0.10656617,  0.05857914, -0.05026571,  0.17040884],\n",
       "       [ 0.02062778, -0.25661013,  0.14620763, -0.12517123, -0.18969613,\n",
       "        -0.25388798, -0.17432716,  0.07707973, -0.11335789, -0.03260124]],\n",
       "      dtype=float32)>"
      ]
     },
     "execution_count": 61,
     "metadata": {},
     "output_type": "execute_result"
    }
   ],
   "source": [
    "net = MLP()\n",
    "x = tf.random.uniform((2, 16))\n",
    "net(x)"
   ]
  },
  {
   "cell_type": "code",
   "execution_count": 62,
   "metadata": {},
   "outputs": [],
   "source": [
    "class MySequential(tf.keras.Model):\n",
    "    def __init__(self, *args):\n",
    "        super().__init__()\n",
    "        self.models = []\n",
    "        for blk in args:\n",
    "            self.models.append(blk)\n",
    "    def call(self, x):\n",
    "        for blk in self.models:\n",
    "            x = blk(x)\n",
    "        return x"
   ]
  },
  {
   "cell_type": "code",
   "execution_count": 63,
   "metadata": {},
   "outputs": [
    {
     "data": {
      "text/plain": [
       "<tf.Tensor: shape=(2, 10), dtype=float32, numpy=\n",
       "array([[-0.23828478,  0.34212494, -0.1052343 ,  0.06910454,  0.14488065,\n",
       "        -0.6529054 , -0.06468116, -0.1710736 , -0.04827119,  0.05332965],\n",
       "       [-0.18628061,  0.35755607, -0.10742956,  0.02469761,  0.09701915,\n",
       "        -0.4673486 , -0.09893426, -0.11672848,  0.12406464,  0.25873494]],\n",
       "      dtype=float32)>"
      ]
     },
     "execution_count": 63,
     "metadata": {},
     "output_type": "execute_result"
    }
   ],
   "source": [
    "net = MySequential(\n",
    "    tf.keras.layers.Dense(256, activation='relu'),\n",
    "    tf.keras.layers.Dense(10)\n",
    ")\n",
    "net(x)"
   ]
  },
  {
   "cell_type": "code",
   "execution_count": 64,
   "metadata": {},
   "outputs": [],
   "source": [
    "def cond(x,y):\n",
    "    return tf.reduce_sum(tf.abs(x)) > 1\n",
    "def body(x,y):\n",
    "    out = y / 2\n",
    "    return out,out\n",
    "class FixedHiddenMlp(tf.keras.Model):\n",
    "    def __init__(self):\n",
    "        super().__init__()\n",
    "        self.flatten = tf.keras.layers.Flatten()\n",
    "        self.random_weight = tf.random.uniform((20,20))\n",
    "        self.dense = tf.keras.layers.Dense(20, activation='relu')\n",
    "    def call(self, x):\n",
    "        x = self.flatten(x)\n",
    "        x = tf.nn.relu(tf.matmul(x, self.random_weight) + 1)\n",
    "        x = self.dense(x)\n",
    "        #原书中这个地方直接用python表达式，直接调用FixedHiddenMlp可以跑成功；但是在下文中作为tf.keras.Sequential的某一层\n",
    "        #运行会失败，改成tf.while_loop能运行成功\n",
    "        out = tf.while_loop(cond, body, [x,x])\n",
    "        return tf.reduce_sum(out)"
   ]
  },
  {
   "cell_type": "code",
   "execution_count": 65,
   "metadata": {},
   "outputs": [
    {
     "data": {
      "text/plain": [
       "<tf.Tensor: shape=(), dtype=float32, numpy=1.0914294719696045>"
      ]
     },
     "execution_count": 65,
     "metadata": {},
     "output_type": "execute_result"
    }
   ],
   "source": [
    "net = FixedHiddenMlp()\n",
    "x = tf.random.uniform((2,20))\n",
    "net(x)"
   ]
  },
  {
   "cell_type": "code",
   "execution_count": 66,
   "metadata": {},
   "outputs": [],
   "source": [
    "class NestMLP(tf.keras.Model):\n",
    "    def __init__(self):\n",
    "        super().__init__()\n",
    "        self.net = tf.keras.Sequential()\n",
    "        self.net.add(tf.keras.layers.Dense(64, activation='relu'))\n",
    "        self.net.add(tf.keras.layers.Dense(32, activation='relu'))\n",
    "        self.dense = tf.keras.layers.Dense(16, activation='relu')\n",
    "    def call(self, x):\n",
    "        return self.dense(self.net(x))"
   ]
  },
  {
   "cell_type": "code",
   "execution_count": 67,
   "metadata": {},
   "outputs": [],
   "source": [
    "mixnet = tf.keras.Sequential()\n",
    "mixnet.add(NestMLP())\n",
    "mixnet.add(tf.keras.layers.Dense(20))\n",
    "mixnet.add(FixedHiddenMlp())"
   ]
  },
  {
   "cell_type": "code",
   "execution_count": 68,
   "metadata": {},
   "outputs": [
    {
     "data": {
      "text/plain": [
       "<tf.Tensor: shape=(), dtype=float32, numpy=1.5485560894012451>"
      ]
     },
     "execution_count": 68,
     "metadata": {},
     "output_type": "execute_result"
    }
   ],
   "source": [
    "x = tf.random.uniform((2, 20))\n",
    "mixnet(x)"
   ]
  }
 ],
 "metadata": {
  "kernelspec": {
   "display_name": "Python 3",
   "language": "python",
   "name": "python3"
  },
  "language_info": {
   "codemirror_mode": {
    "name": "ipython",
    "version": 3
   },
   "file_extension": ".py",
   "mimetype": "text/x-python",
   "name": "python",
   "nbconvert_exporter": "python",
   "pygments_lexer": "ipython3",
   "version": "3.10.12"
  }
 },
 "nbformat": 4,
 "nbformat_minor": 2
}
